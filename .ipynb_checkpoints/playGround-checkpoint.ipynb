{
 "cells": [
  {
   "cell_type": "code",
   "execution_count": 10,
   "metadata": {
    "collapsed": true,
    "deletable": true,
    "editable": true
   },
   "outputs": [],
   "source": [
    "dataPath = '../../Data/Snopes'\n",
    "lgFeaturesPath = '../Data/linguistic features'\n",
    "import os\n",
    "import json"
   ]
  },
  {
   "cell_type": "code",
   "execution_count": 1,
   "metadata": {
    "collapsed": false,
    "deletable": true,
    "editable": true
   },
   "outputs": [
    {
     "ename": "ModuleNotFoundError",
     "evalue": "No module named 'sklearn'",
     "output_type": "error",
     "traceback": [
      "\u001b[0;31m---------------------------------------------------------------------------\u001b[0m",
      "\u001b[0;31mModuleNotFoundError\u001b[0m                       Traceback (most recent call last)",
      "\u001b[0;32m<ipython-input-1-eaed44e7f537>\u001b[0m in \u001b[0;36m<module>\u001b[0;34m()\u001b[0m\n\u001b[0;32m----> 1\u001b[0;31m \u001b[0;32mfrom\u001b[0m \u001b[0msklearn\u001b[0m\u001b[0;34m.\u001b[0m\u001b[0mfeature_extraction\u001b[0m\u001b[0;34m.\u001b[0m\u001b[0mtext\u001b[0m \u001b[0;32mimport\u001b[0m \u001b[0mCountVectorizer\u001b[0m\u001b[0;34m\u001b[0m\u001b[0m\n\u001b[0m\u001b[1;32m      2\u001b[0m \u001b[0mvectorizer\u001b[0m \u001b[0;34m=\u001b[0m \u001b[0mCountVectorizer\u001b[0m\u001b[0;34m(\u001b[0m\u001b[0manalyzer\u001b[0m \u001b[0;34m=\u001b[0m \u001b[0;34m\"word\"\u001b[0m\u001b[0;34m,\u001b[0m                                \u001b[0mtokenizer\u001b[0m \u001b[0;34m=\u001b[0m \u001b[0;32mNone\u001b[0m\u001b[0;34m,\u001b[0m                                 \u001b[0mpreprocessor\u001b[0m \u001b[0;34m=\u001b[0m \u001b[0;32mNone\u001b[0m\u001b[0;34m,\u001b[0m                              \u001b[0mstop_words\u001b[0m \u001b[0;34m=\u001b[0m \u001b[0;34m'english'\u001b[0m\u001b[0;34m,\u001b[0m                              \u001b[0mmax_features\u001b[0m \u001b[0;34m=\u001b[0m \u001b[0;36m5000\u001b[0m\u001b[0;34m)\u001b[0m\u001b[0;34m\u001b[0m\u001b[0m\n\u001b[1;32m      3\u001b[0m \u001b[0;34m\u001b[0m\u001b[0m\n\u001b[1;32m      4\u001b[0m \u001b[0mtrain_data_features\u001b[0m \u001b[0;34m=\u001b[0m \u001b[0mvectorizer\u001b[0m\u001b[0;34m.\u001b[0m\u001b[0mfit_transform\u001b[0m\u001b[0;34m(\u001b[0m\u001b[0;34m[\u001b[0m\u001b[0;34m'I love you'\u001b[0m\u001b[0;34m,\u001b[0m \u001b[0;34m'you you'\u001b[0m\u001b[0;34m]\u001b[0m\u001b[0;34m)\u001b[0m\u001b[0;34m\u001b[0m\u001b[0m\n\u001b[1;32m      5\u001b[0m \u001b[0mtrain_data_features\u001b[0m \u001b[0;34m=\u001b[0m \u001b[0mtrain_data_features\u001b[0m\u001b[0;34m.\u001b[0m\u001b[0mtoarray\u001b[0m\u001b[0;34m(\u001b[0m\u001b[0;34m)\u001b[0m\u001b[0;34m\u001b[0m\u001b[0m\n",
      "\u001b[0;31mModuleNotFoundError\u001b[0m: No module named 'sklearn'"
     ]
    }
   ],
   "source": [
    "from sklearn.feature_extraction.text import CountVectorizer\n",
    "vectorizer = CountVectorizer(analyzer = \"word\",   \\\n",
    "                             tokenizer = None,    \\\n",
    "                             preprocessor = None, \\\n",
    "                             stop_words = 'english', \\\n",
    "                             max_features = 5000) \n",
    "\n",
    "train_data_features = vectorizer.fit_transform(['I love you', 'you you'])\n",
    "train_data_features = train_data_features.toarray()\n",
    "print (train_data_features)"
   ]
  },
  {
   "cell_type": "code",
   "execution_count": 16,
   "metadata": {
    "collapsed": false,
    "deletable": true,
    "editable": true
   },
   "outputs": [
    {
     "name": "stdout",
     "output_type": "stream",
     "text": [
      "[{'Origins': 'In August 2015, a survey scam promising customers $100 off \"Back to School\" coupons for the Meijer hypermarket chain began circulating online: The $100 Meijer coupon scam is very similar to other schemes aimed at defrauding the customers of Target, Publix, Kroger, and Home Depot, all of which redirect users to a web site where they are asked to like, share, and/or comment on the coupons, ensuring that the scams get passed around social media:', 'Fact Check': 'Is Meijer offering $100 off \"Back to School\" coupons?', 'Description': \"While each of these scams feature slight variations, they typically redirect users to survey sites where they are asked to provide personal information such as e-mail addresses, telephone numbers, dates of birth, and credit card numbers. The Better Business Bureau offers these three tips to identify scams on Facebook: Don't believe what you see. It's easy to steal the colors, logos and header of an established organization. Scammers can also make links look like they lead to legitimate websites and emails appear to come from a different sender. Legitimate businesses do not ask for credit card numbers or banking information on customer surveys. If they do ask for personal information, like an address or email, be sure there's a link to their privacy policy. Watch out for a reward that's too good to be true. If the survey is real, you may be entered in a drawing to win a gift card or receive a small discount off your next purchase. Few businesses can afford to give away $50 gift cards for completing a few questions. On 24 August 2015, Meijer confirmed that this $100 coupon was a scam: Last updated: 24 August 2015\", 'Originally Published': ' 24 August 2015', 'Referred Links': 'https://www.facebook.com/meijer/photos/pb.90250031635.-2207520000.1440445036./10153081939751636/?type=3&theater;http://www.bbb.org/blog/2014/07/customer-survey-scam-lures-victims-with-gift-card/;', 'Example': '[Collected via e-mail, August 2015] Meijer coupon offer of $100 off... is this real?', 'Last Updated': '24 August 2015', 'Credibility': 'false', 'URL': 'www.snopes.com/100-meijer-coupon/', 'Claim': 'Meijer is offering $100 off \"Back to School\" coupons.', 'Tags': 'meijer;meijer coupon;coupon;coupon scam;survey scam;', 'Claim_ID': '100-meijer-coupon'}]\n",
      "CPU times: user 2.36 ms, sys: 5.93 ms, total: 8.28 ms\n",
      "Wall time: 7.17 ms\n"
     ]
    }
   ],
   "source": [
    "data = []\n",
    "for filePath in os.listdir(dataPath):\n",
    "    if filePath.endswith('.json'):\n",
    "        file = open(os.path.join(dataPath, filePath), 'r')\n",
    "        data.append(json.load(file))\n",
    "        break\n",
    "print (data)"
   ]
  },
  {
   "cell_type": "code",
   "execution_count": 2,
   "metadata": {
    "collapsed": false,
    "deletable": true,
    "editable": true
   },
   "outputs": [
    {
     "data": {
      "text/plain": [
       "array([[0, 1, 2],\n",
       "       [6, 7, 8]])"
      ]
     },
     "execution_count": 2,
     "metadata": {},
     "output_type": "execute_result"
    }
   ],
   "source": [
    "import numpy as np\n",
    "snippets = np.array([[0,1,2],[3,4,5],[6,7,8]])\n",
    "idx = [0,2]\n",
    "snippets[idx]"
   ]
  },
  {
   "cell_type": "markdown",
   "metadata": {
    "collapsed": true,
    "deletable": true,
    "editable": true
   },
   "source": [
    "References\n",
    "https://www.dataquest.io/blog/jupyter-notebook-tips-tricks-shortcuts/"
   ]
  },
  {
   "cell_type": "code",
   "execution_count": null,
   "metadata": {
    "collapsed": true,
    "deletable": true,
    "editable": true
   },
   "outputs": [],
   "source": [
    "%%time\n",
    "%run main.py"
   ]
  },
  {
   "cell_type": "code",
   "execution_count": 6,
   "metadata": {
    "collapsed": false,
    "deletable": true,
    "editable": true
   },
   "outputs": [],
   "source": [
    "import re\n",
    "def extractSnippets(article):\n",
    "    snippets = []\n",
    "    snippetMarkNumbers = []\t#list of list, inner list records number of ! ? \"\"\n",
    "    NSS = 4 # number of a snippet in a sentence\n",
    "    #articleSentences = re.split(r'[.|!|?]', article)\n",
    "    articleSentences = []\n",
    "    articleSentencesWithMarks = []\n",
    "    sentence = ''\n",
    "    for c in article:\n",
    "    \tif c not in ['?', '!', '.']:\n",
    "    \t\tsentence += c\n",
    "    \telse:\n",
    "    \t\tarticleSentences.append(sentence + ' ')\n",
    "    \t\tif c in ['?', '!']:\n",
    "    \t\t\tsentence += c\n",
    "    \t\telse:\n",
    "    \t\t\tsentence += ' '\n",
    "    \t\tarticleSentencesWithMarks.append(sentence)\n",
    "    \t\tsentence = ''\n",
    "    # no stripped kinda needed: like $100, \"bill\", these are critical\n",
    "    # but vocab from the vectorizer is without these \n",
    "    for i in range(len(articleSentences)):\n",
    "    \tarticleSentences[i] = \" \".join(re.findall(\"[a-zA-Z0-9]+\", articleSentences[i]))\n",
    "    while '' in articleSentences:\n",
    "        articleSentences.remove('')\n",
    "    while '' in articleSentencesWithMarks:\n",
    "        articleSentencesWithMarks.remove('')\n",
    "    for i in range(len(articleSentences) - NSS + 1):\n",
    "        temp = articleSentences[i : i+NSS]\n",
    "        snippet = \"\"\n",
    "        for j in range(NSS):\n",
    "            snippet = snippet + temp[j]\n",
    "        snippets.append(snippet)\n",
    "\n",
    "        snippetMarkNumber = [0,0,0]\n",
    "        for j in range(NSS):\n",
    "        \tcurSentence = articleSentencesWithMarks[i+j]\n",
    "        \tif '!' in curSentence:\n",
    "        \t\tsnippetMarkNumber[0] = 1\n",
    "        \tif '?' in curSentence:\n",
    "        \t\tsnippetMarkNumber[1] = 1\n",
    "        \tif '\"' in curSentence:\n",
    "        \t\tsnippetMarkNumber[2] = 1\n",
    "\n",
    "        snippetMarkNumbers.append(snippetMarkNumber)\n",
    "\n",
    "    return snippets, snippetMarkNumbers"
   ]
  },
  {
   "cell_type": "markdown",
   "metadata": {},
   "source": [
    "\"She had all the typical symptoms of a pregnant woman. It s not the first time a young woman falls pregnant without the consent of her parents, but the girl seemed sincere when she said she had never had sexual relations with a boy, and she urged me to check her hymen, which I eventually did, and to my utter surprise, the hymen was fully intact. It is impossible she has been impregnated by male sperm she assures. In my 26 years of practice, I have never heard once of such a thing as someone being impregnated by a vaccine, but I did some research and found out it is more common than most people think . The claim cleverly layered the suggestion of a falsehood within its own fabrication to facilitate the spread of the story; by that sleight of hand, readers surmised the girl had lied about her sexual experience and had blamed the flu vaccine to deflect suspicion about the true nature of her pregnancy. None of this (neither the girl's claims nor the article reporting them) was true, however. World News Daily Report is just one of many fake news sites that print fictitious articles, as noted in their disclaimer: WNDR assumes however all responsibility for the satirical nature of its articles and for the fictional nature of their content. All characters appearing in the articles in this website even those based on real people are entirely fictional and any resemblance between them and any persons, living, dead, or undead is purely a miracle. World News Daily Report previously spread fake news stories about loggers accidentally cutting down the world's largest tree, Yoko Ono's admitting to an affair with Hillary Clinton, and a 179-year-old man living in India. Last updated: 5 October 2015\")"
   ]
  },
  {
   "cell_type": "code",
   "execution_count": 7,
   "metadata": {
    "collapsed": false,
    "deletable": true,
    "editable": true
   },
   "outputs": [
    {
     "data": {
      "text/plain": [
       "(['She had all the typical symptoms of a pregnant womanIt s not the first time a young woman falls pregnant without the consent of her parents but the girl seemed sincere when she said she had never had sexual relations with a boy and she urged me to check her hymen which I eventually did and to my utter surprise the hymen was fully intactIt is impossible she has been impregnated by male sperm she assuresIn my 26 years of practice I have never heard once of such a thing as someone being impregnated by a vaccine but I did some research and found out it is more common than most people think',\n",
       "  'It s not the first time a young woman falls pregnant without the consent of her parents but the girl seemed sincere when she said she had never had sexual relations with a boy and she urged me to check her hymen which I eventually did and to my utter surprise the hymen was fully intactIt is impossible she has been impregnated by male sperm she assuresIn my 26 years of practice I have never heard once of such a thing as someone being impregnated by a vaccine but I did some research and found out it is more common than most people thinkThe claim cleverly layered the suggestion of a falsehood within its own fabrication to facilitate the spread of the story by that sleight of hand readers surmised the girl had lied about her sexual experience and had blamed the flu vaccine to deflect suspicion about the true nature of her pregnancy',\n",
       "  'It is impossible she has been impregnated by male sperm she assuresIn my 26 years of practice I have never heard once of such a thing as someone being impregnated by a vaccine but I did some research and found out it is more common than most people thinkThe claim cleverly layered the suggestion of a falsehood within its own fabrication to facilitate the spread of the story by that sleight of hand readers surmised the girl had lied about her sexual experience and had blamed the flu vaccine to deflect suspicion about the true nature of her pregnancyNone of this neither the girl s claims nor the article reporting them was true however',\n",
       "  'In my 26 years of practice I have never heard once of such a thing as someone being impregnated by a vaccine but I did some research and found out it is more common than most people thinkThe claim cleverly layered the suggestion of a falsehood within its own fabrication to facilitate the spread of the story by that sleight of hand readers surmised the girl had lied about her sexual experience and had blamed the flu vaccine to deflect suspicion about the true nature of her pregnancyNone of this neither the girl s claims nor the article reporting them was true howeverWorld News Daily Report is just one of many fake news sites that print fictitious articles as noted in their disclaimer WNDR assumes however all responsibility for the satirical nature of its articles and for the fictional nature of their content',\n",
       "  'The claim cleverly layered the suggestion of a falsehood within its own fabrication to facilitate the spread of the story by that sleight of hand readers surmised the girl had lied about her sexual experience and had blamed the flu vaccine to deflect suspicion about the true nature of her pregnancyNone of this neither the girl s claims nor the article reporting them was true howeverWorld News Daily Report is just one of many fake news sites that print fictitious articles as noted in their disclaimer WNDR assumes however all responsibility for the satirical nature of its articles and for the fictional nature of their contentAll characters appearing in the articles in this website even those based on real people are entirely fictional and any resemblance between them and any persons living dead or undead is purely a miracle',\n",
       "  'None of this neither the girl s claims nor the article reporting them was true howeverWorld News Daily Report is just one of many fake news sites that print fictitious articles as noted in their disclaimer WNDR assumes however all responsibility for the satirical nature of its articles and for the fictional nature of their contentAll characters appearing in the articles in this website even those based on real people are entirely fictional and any resemblance between them and any persons living dead or undead is purely a miracleWorld News Daily Report previously spread fake news stories about loggers accidentally cutting down the world s largest tree Yoko Ono s admitting to an affair with Hillary Clinton and a 179 year old man living in India'],\n",
       " [[0, 0, 0], [0, 0, 0], [0, 0, 0], [0, 0, 0], [0, 0, 0], [0, 0, 0]])"
      ]
     },
     "execution_count": 7,
     "metadata": {},
     "output_type": "execute_result"
    }
   ],
   "source": [
    "extractSnippets(\"She had all the typical symptoms of a pregnant woman. It s not the first time a young woman falls pregnant without the consent of her parents, but the girl seemed sincere when she said she had never had sexual relations with a boy, and she urged me to check her hymen, which I eventually did, and to my utter surprise, the hymen was fully intact. It is impossible she has been impregnated by male sperm she assures. In my 26 years of practice, I have never heard once of such a thing as someone being impregnated by a vaccine, but I did some research and found out it is more common than most people think . The claim cleverly layered the suggestion of a falsehood within its own fabrication to facilitate the spread of the story; by that sleight of hand, readers surmised the girl had lied about her sexual experience and had blamed the flu vaccine to deflect suspicion about the true nature of her pregnancy. None of this (neither the girl's claims nor the article reporting them) was true, however. World News Daily Report is just one of many fake news sites that print fictitious articles, as noted in their disclaimer: WNDR assumes however all responsibility for the satirical nature of its articles and for the fictional nature of their content. All characters appearing in the articles in this website even those based on real people are entirely fictional and any resemblance between them and any persons, living, dead, or undead is purely a miracle. World News Daily Report previously spread fake news stories about loggers accidentally cutting down the world's largest tree, Yoko Ono's admitting to an affair with Hillary Clinton, and a 179-year-old man living in India. Last updated: 5 October 2015\")"
   ]
  },
  {
   "cell_type": "code",
   "execution_count": null,
   "metadata": {
    "collapsed": true
   },
   "outputs": [],
   "source": []
  }
 ],
 "metadata": {
  "kernelspec": {
   "display_name": "Python 3",
   "language": "python",
   "name": "python3"
  },
  "language_info": {
   "codemirror_mode": {
    "name": "ipython",
    "version": 3
   },
   "file_extension": ".py",
   "mimetype": "text/x-python",
   "name": "python",
   "nbconvert_exporter": "python",
   "pygments_lexer": "ipython3",
   "version": "3.6.0"
  }
 },
 "nbformat": 4,
 "nbformat_minor": 1
}
