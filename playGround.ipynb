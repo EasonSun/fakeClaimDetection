{
 "cells": [
  {
   "cell_type": "code",
   "execution_count": 10,
   "metadata": {
    "collapsed": true,
    "deletable": true,
    "editable": true
   },
   "outputs": [],
   "source": [
    "dataPath = '../../Data/Snopes'\n",
    "lgFeaturesPath = '../Data/linguistic features'\n",
    "import os\n",
    "import json"
   ]
  },
  {
   "cell_type": "code",
   "execution_count": 1,
   "metadata": {
    "collapsed": false,
    "deletable": true,
    "editable": true
   },
   "outputs": [
    {
     "ename": "ModuleNotFoundError",
     "evalue": "No module named 'sklearn'",
     "output_type": "error",
     "traceback": [
      "\u001b[0;31m---------------------------------------------------------------------------\u001b[0m",
      "\u001b[0;31mModuleNotFoundError\u001b[0m                       Traceback (most recent call last)",
      "\u001b[0;32m<ipython-input-1-eaed44e7f537>\u001b[0m in \u001b[0;36m<module>\u001b[0;34m()\u001b[0m\n\u001b[0;32m----> 1\u001b[0;31m \u001b[0;32mfrom\u001b[0m \u001b[0msklearn\u001b[0m\u001b[0;34m.\u001b[0m\u001b[0mfeature_extraction\u001b[0m\u001b[0;34m.\u001b[0m\u001b[0mtext\u001b[0m \u001b[0;32mimport\u001b[0m \u001b[0mCountVectorizer\u001b[0m\u001b[0;34m\u001b[0m\u001b[0m\n\u001b[0m\u001b[1;32m      2\u001b[0m \u001b[0mvectorizer\u001b[0m \u001b[0;34m=\u001b[0m \u001b[0mCountVectorizer\u001b[0m\u001b[0;34m(\u001b[0m\u001b[0manalyzer\u001b[0m \u001b[0;34m=\u001b[0m \u001b[0;34m\"word\"\u001b[0m\u001b[0;34m,\u001b[0m                                \u001b[0mtokenizer\u001b[0m \u001b[0;34m=\u001b[0m \u001b[0;32mNone\u001b[0m\u001b[0;34m,\u001b[0m                                 \u001b[0mpreprocessor\u001b[0m \u001b[0;34m=\u001b[0m \u001b[0;32mNone\u001b[0m\u001b[0;34m,\u001b[0m                              \u001b[0mstop_words\u001b[0m \u001b[0;34m=\u001b[0m \u001b[0;34m'english'\u001b[0m\u001b[0;34m,\u001b[0m                              \u001b[0mmax_features\u001b[0m \u001b[0;34m=\u001b[0m \u001b[0;36m5000\u001b[0m\u001b[0;34m)\u001b[0m\u001b[0;34m\u001b[0m\u001b[0m\n\u001b[1;32m      3\u001b[0m \u001b[0;34m\u001b[0m\u001b[0m\n\u001b[1;32m      4\u001b[0m \u001b[0mtrain_data_features\u001b[0m \u001b[0;34m=\u001b[0m \u001b[0mvectorizer\u001b[0m\u001b[0;34m.\u001b[0m\u001b[0mfit_transform\u001b[0m\u001b[0;34m(\u001b[0m\u001b[0;34m[\u001b[0m\u001b[0;34m'I love you'\u001b[0m\u001b[0;34m,\u001b[0m \u001b[0;34m'you you'\u001b[0m\u001b[0;34m]\u001b[0m\u001b[0;34m)\u001b[0m\u001b[0;34m\u001b[0m\u001b[0m\n\u001b[1;32m      5\u001b[0m \u001b[0mtrain_data_features\u001b[0m \u001b[0;34m=\u001b[0m \u001b[0mtrain_data_features\u001b[0m\u001b[0;34m.\u001b[0m\u001b[0mtoarray\u001b[0m\u001b[0;34m(\u001b[0m\u001b[0;34m)\u001b[0m\u001b[0;34m\u001b[0m\u001b[0m\n",
      "\u001b[0;31mModuleNotFoundError\u001b[0m: No module named 'sklearn'"
     ]
    }
   ],
   "source": [
    "from sklearn.feature_extraction.text import CountVectorizer\n",
    "vectorizer = CountVectorizer(analyzer = \"word\",   \\\n",
    "                             tokenizer = None,    \\\n",
    "                             preprocessor = None, \\\n",
    "                             stop_words = 'english', \\\n",
    "                             max_features = 5000) \n",
    "\n",
    "train_data_features = vectorizer.fit_transform(['I love you', 'you you'])\n",
    "train_data_features = train_data_features.toarray()\n",
    "print (train_data_features)"
   ]
  },
  {
   "cell_type": "code",
   "execution_count": 16,
   "metadata": {
    "collapsed": false,
    "deletable": true,
    "editable": true
   },
   "outputs": [
    {
     "name": "stdout",
     "output_type": "stream",
     "text": [
      "[{'Origins': 'In August 2015, a survey scam promising customers $100 off \"Back to School\" coupons for the Meijer hypermarket chain began circulating online: The $100 Meijer coupon scam is very similar to other schemes aimed at defrauding the customers of Target, Publix, Kroger, and Home Depot, all of which redirect users to a web site where they are asked to like, share, and/or comment on the coupons, ensuring that the scams get passed around social media:', 'Fact Check': 'Is Meijer offering $100 off \"Back to School\" coupons?', 'Description': \"While each of these scams feature slight variations, they typically redirect users to survey sites where they are asked to provide personal information such as e-mail addresses, telephone numbers, dates of birth, and credit card numbers. The Better Business Bureau offers these three tips to identify scams on Facebook: Don't believe what you see. It's easy to steal the colors, logos and header of an established organization. Scammers can also make links look like they lead to legitimate websites and emails appear to come from a different sender. Legitimate businesses do not ask for credit card numbers or banking information on customer surveys. If they do ask for personal information, like an address or email, be sure there's a link to their privacy policy. Watch out for a reward that's too good to be true. If the survey is real, you may be entered in a drawing to win a gift card or receive a small discount off your next purchase. Few businesses can afford to give away $50 gift cards for completing a few questions. On 24 August 2015, Meijer confirmed that this $100 coupon was a scam: Last updated: 24 August 2015\", 'Originally Published': ' 24 August 2015', 'Referred Links': 'https://www.facebook.com/meijer/photos/pb.90250031635.-2207520000.1440445036./10153081939751636/?type=3&theater;http://www.bbb.org/blog/2014/07/customer-survey-scam-lures-victims-with-gift-card/;', 'Example': '[Collected via e-mail, August 2015] Meijer coupon offer of $100 off... is this real?', 'Last Updated': '24 August 2015', 'Credibility': 'false', 'URL': 'www.snopes.com/100-meijer-coupon/', 'Claim': 'Meijer is offering $100 off \"Back to School\" coupons.', 'Tags': 'meijer;meijer coupon;coupon;coupon scam;survey scam;', 'Claim_ID': '100-meijer-coupon'}]\n",
      "CPU times: user 2.36 ms, sys: 5.93 ms, total: 8.28 ms\n",
      "Wall time: 7.17 ms\n"
     ]
    }
   ],
   "source": [
    "data = []\n",
    "for filePath in os.listdir(dataPath):\n",
    "    if filePath.endswith('.json'):\n",
    "        file = open(os.path.join(dataPath, filePath), 'r')\n",
    "        data.append(json.load(file))\n",
    "        break\n",
    "print (data)"
   ]
  },
  {
   "cell_type": "code",
   "execution_count": 2,
   "metadata": {
    "collapsed": false,
    "deletable": true,
    "editable": true
   },
   "outputs": [
    {
     "data": {
      "text/plain": [
       "array([[0, 1, 2],\n",
       "       [6, 7, 8]])"
      ]
     },
     "execution_count": 2,
     "metadata": {},
     "output_type": "execute_result"
    }
   ],
   "source": [
    "import numpy as np\n",
    "snippets = np.array([[0,1,2],[3,4,5],[6,7,8]])\n",
    "idx = [0,2]\n",
    "snippets[idx]"
   ]
  },
  {
   "cell_type": "markdown",
   "metadata": {
    "collapsed": true,
    "deletable": true,
    "editable": true
   },
   "source": [
    "References\n",
    "https://www.dataquest.io/blog/jupyter-notebook-tips-tricks-shortcuts/"
   ]
  },
  {
   "cell_type": "code",
   "execution_count": null,
   "metadata": {
    "collapsed": true,
    "deletable": true,
    "editable": true
   },
   "outputs": [],
   "source": [
    "%%time\n",
    "%run main.py"
   ]
  },
  {
   "cell_type": "code",
   "execution_count": 18,
   "metadata": {
    "collapsed": false,
    "deletable": true,
    "editable": true
   },
   "outputs": [],
   "source": [
    "import re\n",
    "def extractSnippets(article):\n",
    "    snippets = []\n",
    "    snippetMarkNumbers = []\t#list of list, inner list records number of ! ? \"\"\n",
    "    NSS = 4 # number of a snippet in a sentence\n",
    "    #articleSentences = re.split(r'[.|!|?]', article)\n",
    "    articleSentences = []\n",
    "    articleSentencesWithMarks = []\n",
    "    sentence = ''\n",
    "    for c in article:\n",
    "    \tif c not in ['?', '!', '.']:\n",
    "    \t\tsentence += c\n",
    "    \telse:\n",
    "    \t\tarticleSentences.append(sentence)\n",
    "    \t\tif c in ['?', '!']:\n",
    "    \t\t\tsentence += c\n",
    "    \t\telse:\n",
    "    \t\t\tsentence += ' '\n",
    "    \t\tarticleSentencesWithMarks.append(sentence)\n",
    "    \t\tsentence = ''\n",
    "    # print(articleSentences)\n",
    "    # no stripped kinda needed: like $100, \"bill\", these are critical\n",
    "    # but vocab from the vectorizer is without these \n",
    "    for i in range(len(articleSentences)):\n",
    "    \tarticleSentences[i] = \" \".join(re.findall(\"[a-zA-Z0-9]+\", articleSentences[i])) + ' '\n",
    "    # print(articleSentences)\n",
    "    while '' in articleSentences:\n",
    "        articleSentences.remove('')\n",
    "    while '' in articleSentencesWithMarks:\n",
    "        articleSentencesWithMarks.remove('')\n",
    "    for i in range(len(articleSentences) - NSS + 1):\n",
    "        temp = articleSentences[i : i+NSS]\n",
    "        snippet = \"\"\n",
    "        for j in range(NSS):\n",
    "            snippet = snippet + temp[j]\n",
    "        snippets.append(snippet)\n",
    "\n",
    "        snippetMarkNumber = [0,0,0]\n",
    "        for j in range(NSS):\n",
    "        \tcurSentence = articleSentencesWithMarks[i+j]\n",
    "        \tif '!' in curSentence:\n",
    "        \t\tsnippetMarkNumber[0] = 1\n",
    "        \tif '?' in curSentence:\n",
    "        \t\tsnippetMarkNumber[1] = 1\n",
    "        \tif '\"' in curSentence:\n",
    "        \t\tsnippetMarkNumber[2] = 1\n",
    "\n",
    "        snippetMarkNumbers.append(snippetMarkNumber)\n",
    "\n",
    "    return snippets, snippetMarkNumbers"
   ]
  },
  {
   "cell_type": "markdown",
   "metadata": {},
   "source": [
    "\"She had all the typical symptoms of a pregnant woman. It s not the first time a young woman falls pregnant without the consent of her parents, but the girl seemed sincere when she said she had never had sexual relations with a boy, and she urged me to check her hymen, which I eventually did, and to my utter surprise, the hymen was fully intact. It is impossible she has been impregnated by male sperm she assures. In my 26 years of practice, I have never heard once of such a thing as someone being impregnated by a vaccine, but I did some research and found out it is more common than most people think . The claim cleverly layered the suggestion of a falsehood within its own fabrication to facilitate the spread of the story; by that sleight of hand, readers surmised the girl had lied about her sexual experience and had blamed the flu vaccine to deflect suspicion about the true nature of her pregnancy. None of this (neither the girl's claims nor the article reporting them) was true, however. World News Daily Report is just one of many fake news sites that print fictitious articles, as noted in their disclaimer: WNDR assumes however all responsibility for the satirical nature of its articles and for the fictional nature of their content. All characters appearing in the articles in this website even those based on real people are entirely fictional and any resemblance between them and any persons, living, dead, or undead is purely a miracle. World News Daily Report previously spread fake news stories about loggers accidentally cutting down the world's largest tree, Yoko Ono's admitting to an affair with Hillary Clinton, and a 179-year-old man living in India. Last updated: 5 October 2015\")"
   ]
  },
  {
   "cell_type": "code",
   "execution_count": 20,
   "metadata": {
    "collapsed": false,
    "deletable": true,
    "editable": true
   },
   "outputs": [],
   "source": [
    "snippets, snippetMarkNumbers = extractSnippets(\"She had all the \\\"typical symptoms\\\" of a pregnant woman. It s not the first time a young woman falls pregnant without the consent of her parents, but the girl seemed sincere when she said she had never had sexual relations with a boy, and she urged me to check her hymen, which I eventually did, and to my utter surprise, the hymen was fully intact! It is impossible she has been impregnated by male sperm she assures. In my 26 years of practice, I have never heard once of such a thing as someone being impregnated by a vaccine, but I did some research and found out it is more common than most people think . The claim cleverly layered the suggestion of a falsehood within its own fabrication to facilitate the spread of the story; by that sleight of hand, readers surmised the girl had lied about her sexual experience and had blamed the flu vaccine to deflect suspicion about the true nature of her pregnancy. None of this (neither the girl's claims nor the article reporting them) was true, however. World News Daily Report is just one of many fake news sites that print fictitious articles, as noted in their disclaimer: WNDR assumes however all responsibility for the satirical nature of its articles and for the fictional nature of their content. All characters appearing in the articles in this website even those based on real people are entirely fictional and any resemblance between them and any persons, living, dead, or undead is purely a miracle. World News Daily Report previously spread fake news stories about loggers accidentally cutting down the world's largest tree, Yoko Ono's admitting to an affair with Hillary Clinton, and a 179-year-old man living in India. Last updated: 5 October 2015\")"
   ]
  },
  {
   "cell_type": "code",
   "execution_count": 25,
   "metadata": {
    "collapsed": false
   },
   "outputs": [
    {
     "name": "stdout",
     "output_type": "stream",
     "text": [
      "[[1, 0, 1], [1, 0, 0], [0, 0, 0], [0, 0, 0], [0, 0, 0], [0, 0, 0]]\n"
     ]
    },
    {
     "data": {
      "text/plain": [
       "[[1, 0, 0], [0, 0, 0], [0, 0, 0]]"
      ]
     },
     "execution_count": 25,
     "metadata": {},
     "output_type": "execute_result"
    }
   ],
   "source": [
    "print (snippetMarkNumbers)\n",
    "[snippetMarkNumbers[i] for i in [1,2,4]]"
   ]
  },
  {
   "cell_type": "code",
   "execution_count": 39,
   "metadata": {
    "collapsed": false
   },
   "outputs": [
    {
     "name": "stdout",
     "output_type": "stream",
     "text": [
      "(6, 3)\n",
      "(6, 22)\n",
      "[[ 0.52255729  0.77166684  0.91972238  0.76387004  0.77065855  0.54262949\n",
      "   0.9222469   0.27679233  0.99768112  0.89313645  0.43076568  0.7177737\n",
      "   0.2764045   0.08639618  0.41921079  0.63650602  0.86776222  0.0117781\n",
      "   0.18707721  0.08995423  0.07817988  0.07866437]\n",
      " [ 0.76178652  0.90175367  0.06259302  0.10785361  0.37860143  0.6633708\n",
      "   0.8743326   0.40203509  0.07515205  0.5306684   0.91111047  0.59152873\n",
      "   0.08796942  0.45502329  0.21374881  0.19013419  0.57725255  0.55862745\n",
      "   0.15008388  0.15447845  0.36770738  0.1768495 ]\n",
      " [ 0.71936969  0.65055979  0.97672776  0.31259422  0.57212344  0.92712656\n",
      "   0.74485415  0.35221219  0.69823947  0.8368633   0.29837189  0.0135564\n",
      "   0.62595401  0.7747816   0.36223205  0.35492041  0.53603673  0.90367703\n",
      "   0.48764274  0.7135271   0.35616759  0.44944659]\n",
      " [ 0.38204493  0.93292068  0.33110297  0.942626    0.99324169  0.46911891\n",
      "   0.10581965  0.37631415  0.97997687  0.46888353  0.31754888  0.06692676\n",
      "   0.54261545  0.86670201  0.5215662   0.10448072  0.89766289  0.40774553\n",
      "   0.65260834  0.61303911  0.98774206  0.03235558]\n",
      " [ 0.29467843  0.06531677  0.61585473  0.50152201  0.13693657  0.30364638\n",
      "   0.27061356  0.96588887  0.03222519  0.20217867  0.20596022  0.2265785\n",
      "   0.77901879  0.06811031  0.58144614  0.91926665  0.47157186  0.0862526\n",
      "   0.90862276  0.63315009  0.0420856   0.95033011]\n",
      " [ 0.00410532  0.39404639  0.41597703  0.34615022  0.2006309   0.42931851\n",
      "   0.51366104  0.67118748  0.36197183  0.92463687  0.89828714  0.9388294\n",
      "   0.79175895  0.96243432  0.7516876   0.50771184  0.8180569   0.19399199\n",
      "   0.51337752  0.10071346  0.38282952  0.7591726 ]]\n"
     ]
    },
    {
     "data": {
      "text/plain": [
       "array([[ 0.52255729,  0.77166684,  0.91972238,  0.76387004,  0.77065855,\n",
       "         0.54262949,  0.9222469 ,  0.27679233,  0.99768112,  0.89313645,\n",
       "         0.43076568,  0.7177737 ,  0.2764045 ,  0.08639618,  0.41921079,\n",
       "         0.63650602,  0.86776222,  0.0117781 ,  0.18707721,  0.08995423,\n",
       "         0.07817988,  0.07866437,  1.        ,  0.        ,  1.        ],\n",
       "       [ 0.76178652,  0.90175367,  0.06259302,  0.10785361,  0.37860143,\n",
       "         0.6633708 ,  0.8743326 ,  0.40203509,  0.07515205,  0.5306684 ,\n",
       "         0.91111047,  0.59152873,  0.08796942,  0.45502329,  0.21374881,\n",
       "         0.19013419,  0.57725255,  0.55862745,  0.15008388,  0.15447845,\n",
       "         0.36770738,  0.1768495 ,  1.        ,  0.        ,  0.        ],\n",
       "       [ 0.71936969,  0.65055979,  0.97672776,  0.31259422,  0.57212344,\n",
       "         0.92712656,  0.74485415,  0.35221219,  0.69823947,  0.8368633 ,\n",
       "         0.29837189,  0.0135564 ,  0.62595401,  0.7747816 ,  0.36223205,\n",
       "         0.35492041,  0.53603673,  0.90367703,  0.48764274,  0.7135271 ,\n",
       "         0.35616759,  0.44944659,  0.        ,  0.        ,  0.        ],\n",
       "       [ 0.38204493,  0.93292068,  0.33110297,  0.942626  ,  0.99324169,\n",
       "         0.46911891,  0.10581965,  0.37631415,  0.97997687,  0.46888353,\n",
       "         0.31754888,  0.06692676,  0.54261545,  0.86670201,  0.5215662 ,\n",
       "         0.10448072,  0.89766289,  0.40774553,  0.65260834,  0.61303911,\n",
       "         0.98774206,  0.03235558,  0.        ,  0.        ,  0.        ],\n",
       "       [ 0.29467843,  0.06531677,  0.61585473,  0.50152201,  0.13693657,\n",
       "         0.30364638,  0.27061356,  0.96588887,  0.03222519,  0.20217867,\n",
       "         0.20596022,  0.2265785 ,  0.77901879,  0.06811031,  0.58144614,\n",
       "         0.91926665,  0.47157186,  0.0862526 ,  0.90862276,  0.63315009,\n",
       "         0.0420856 ,  0.95033011,  0.        ,  0.        ,  0.        ],\n",
       "       [ 0.00410532,  0.39404639,  0.41597703,  0.34615022,  0.2006309 ,\n",
       "         0.42931851,  0.51366104,  0.67118748,  0.36197183,  0.92463687,\n",
       "         0.89828714,  0.9388294 ,  0.79175895,  0.96243432,  0.7516876 ,\n",
       "         0.50771184,  0.8180569 ,  0.19399199,  0.51337752,  0.10071346,\n",
       "         0.38282952,  0.7591726 ,  0.        ,  0.        ,  0.        ]])"
      ]
     },
     "execution_count": 39,
     "metadata": {},
     "output_type": "execute_result"
    }
   ],
   "source": [
    "import numpy as np\n",
    "gan = np.array(snippetMarkNumbers)\n",
    "print(gan.shape)\n",
    "a = np.random.rand(gan.shape[0], 22)\n",
    "print(a.shape)\n",
    "print (a)\n",
    "# np.concatenate((a, gan.T))\n",
    "np.concatenate((a, gan), axis=1) "
   ]
  },
  {
   "cell_type": "code",
   "execution_count": 37,
   "metadata": {
    "collapsed": false
   },
   "outputs": [
    {
     "data": {
      "text/plain": [
       "array([[1, 2],\n",
       "       [3, 4],\n",
       "       [5, 6]])"
      ]
     },
     "execution_count": 37,
     "metadata": {},
     "output_type": "execute_result"
    }
   ],
   "source": [
    "import numpy as np\n",
    "a = np.array([[1, 2], [3, 4]])\n",
    "b = np.array([[5, 6]])\n",
    "np.concatenate((a, b), axis=0)"
   ]
  },
  {
   "cell_type": "code",
   "execution_count": null,
   "metadata": {
    "collapsed": true
   },
   "outputs": [],
   "source": []
  }
 ],
 "metadata": {
  "kernelspec": {
   "display_name": "Python 3",
   "language": "python",
   "name": "python3"
  },
  "language_info": {
   "codemirror_mode": {
    "name": "ipython",
    "version": 3
   },
   "file_extension": ".py",
   "mimetype": "text/x-python",
   "name": "python",
   "nbconvert_exporter": "python",
   "pygments_lexer": "ipython3",
   "version": "3.6.0"
  }
 },
 "nbformat": 4,
 "nbformat_minor": 1
}
